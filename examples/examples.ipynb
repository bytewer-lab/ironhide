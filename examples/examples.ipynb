{
 "cells": [
  {
   "cell_type": "code",
   "execution_count": null,
   "id": "1266f89f",
   "metadata": {},
   "outputs": [],
   "source": [
    "import logging\n",
    "from datetime import date\n",
    "from pathlib import Path\n",
    "from typing import Annotated, Any\n",
    "\n",
    "from ironhide import BaseAgent, tool\n",
    "from ironhide.settings import settings\n",
    "from pydantic import BaseModel, Field\n",
    "\n",
    "logging.basicConfig(\n",
    "    level=settings.log_level,\n",
    "    format=\"%(asctime)s  %(levelname)s  %(filename)s  %(funcName)s  %(message)s\",\n",
    ")\n",
    "\n",
    "print(settings.model_dump_json(indent=2))\n"
   ]
  },
  {
   "cell_type": "markdown",
   "id": "8ed3b979",
   "metadata": {},
   "source": [
    "# Function Calling"
   ]
  },
  {
   "cell_type": "code",
   "execution_count": null,
   "id": "57ce8147",
   "metadata": {},
   "outputs": [],
   "source": [
    "class Calculator(BaseAgent):\n",
    "    instructions = \"\"\"You are a function-calling agent designed to calculate expressions through a chain of reasoning.\n",
    "    You will receive a mathematical expression, and your task will be to identify and execute the correct functions in the proper order, passing the return values of previously executed functions to subsequent ones that depend on those results to resolve the expression.\n",
    "    You are not an agent that performs calculations directly, only one that executes functions to calculate.\n",
    "    You are not allowed to infer the result of any operation.\n",
    "    \"\"\"\n",
    "\n",
    "    # TODO: Gemini does not support tools and  \"tool_choice\": \"none\"\n",
    "\n",
    "    def __init__(self, value: int, **kwargs: Any) -> None:\n",
    "        super().__init__(**kwargs)\n",
    "        self.value = value\n",
    "\n",
    "    @tool\n",
    "    def add(\n",
    "        self,\n",
    "        a: Annotated[int, \"the first operation number\"],\n",
    "        b: Annotated[int, \"the second operation number\"],\n",
    "    ) -> int:\n",
    "        \"\"\"Add two integers and returns the result integer.\"\"\"\n",
    "        return self.value\n",
    "\n",
    "    @tool\n",
    "    def multiply(\n",
    "        self,\n",
    "        a: Annotated[int, \"the first operation number\"],\n",
    "        b: Annotated[int, \"the second e operation number\"],\n",
    "    ) -> int:\n",
    "        \"\"\"Multiply two integers and returns the result integer.\"\"\"\n",
    "        return self.value"
   ]
  },
  {
   "cell_type": "code",
   "execution_count": null,
   "id": "4562084d",
   "metadata": {},
   "outputs": [],
   "source": [
    "agent = Calculator(value=999)\n",
    "message = \"opa beleza, meu nome é Lucas. Quanto é 2 + 2?\"\n",
    "response = await agent.chat(message)"
   ]
  },
  {
   "cell_type": "code",
   "execution_count": null,
   "id": "d11803ef",
   "metadata": {},
   "outputs": [],
   "source": [
    "print(response)"
   ]
  },
  {
   "cell_type": "markdown",
   "id": "012378b2",
   "metadata": {},
   "source": [
    "# Structured Output"
   ]
  },
  {
   "cell_type": "code",
   "execution_count": null,
   "id": "3fd1a32d",
   "metadata": {},
   "outputs": [],
   "source": [
    "class Contrato(BaseModel):\n",
    "    indice_de_reajuste: str = Field(\n",
    "        description=\"Índice usado para reajuste do contrato\",\n",
    "    )\n",
    "    data_reajuste_contrato: str = Field(\n",
    "        description=\"Data de reajuste do contrato\",\n",
    "    )\n",
    "    data_inicio_validade_contrato: date = Field(\n",
    "        description=\"Data de início da validade do contrato\",\n",
    "    )\n",
    "    data_fim_validade_contrato: date = Field(\n",
    "        description=\"Data de término da validade do contrato\",\n",
    "    )\n",
    "    prazo_da_locacao_em_meses: int = Field(\n",
    "        description=\"Duração do contrato em meses\",\n",
    "    )\n",
    "    dobra_no_mes_dezembro: bool = Field(\n",
    "        description=\"Indica se há valor dobrado em dezembro\",\n",
    "    )\n",
    "\n",
    "\n",
    "class Imovel(BaseModel):\n",
    "    valor_aluguel_em_reais: str = Field(\n",
    "        description=\"Valor do aluguel em reais\",\n",
    "    )\n",
    "\n",
    "\n",
    "class Dados(BaseModel):\n",
    "    contrato: Contrato = Field(\n",
    "        description=\"Informações do contrato\",\n",
    "    )\n",
    "    imovel: Imovel = Field(\n",
    "        description=\"Informações do imóvel\",\n",
    "    )"
   ]
  },
  {
   "cell_type": "code",
   "execution_count": null,
   "id": "e0b8d532",
   "metadata": {},
   "outputs": [],
   "source": [
    "class Extractor(BaseAgent):\n",
    "    instructions = \"\"\"You are an expert at structured data extraction.\n",
    "    You will be given unstructured text and should convert it into the given structure.\n",
    "    Always extract data in the following format: yyyy-mm-dd\n",
    "    \"\"\"\n",
    "\n",
    "\n",
    "    chain_of_thought = (\n",
    "        \"[reason] Lets think step by step and reason about the problem.\",\n",
    "        \"[reason] Evaluate the previous reasoning to ensure that everything is correct\",\n",
    "    )\n"
   ]
  },
  {
   "cell_type": "code",
   "execution_count": null,
   "id": "51af4386",
   "metadata": {},
   "outputs": [],
   "source": [
    "agent = Extractor()\n",
    "message = \"\"\"Conforme o contrato de locação firmado entre as partes, o índice de reajuste pactuado é o IGP-M (Índice Geral de Preços do Mercado), com data de reajuste prevista para 1º de janeiro de 2024.\" \\\n",
    "O contrato teve início em 15 de março de 2023 e terá vigência até 14 de março de 2026, perfazendo um prazo total de 36 meses de locação.\n",
    "O valor mensal do aluguel foi fixado em R$ 3.500,00 e, de acordo com o acordo firmado, haverá dobra no valor devido ao aluguel no mês de dezembro, resultando em R$ 7.000,00 naquele mês.\"\"\"\n",
    "response = await agent.structured_chat(message, response_format=Dados)"
   ]
  },
  {
   "cell_type": "code",
   "execution_count": null,
   "id": "902ed719",
   "metadata": {},
   "outputs": [],
   "source": [
    "print(response.model_dump_json(by_alias=True, exclude_none=True, indent=4))"
   ]
  },
  {
   "cell_type": "markdown",
   "id": "b4c1abca",
   "metadata": {},
   "source": [
    "# Image Input"
   ]
  },
  {
   "cell_type": "code",
   "execution_count": null,
   "id": "17032446",
   "metadata": {},
   "outputs": [],
   "source": [
    "class Image(BaseAgent):\n",
    "    instructions = \"\"\"You are an expert at extracting text from images and converting it into structured data. \n",
    "    Your task is to:\n",
    "    1. First, carefully read and extract all text visible in the provided image\n",
    "    2. Then, analyze the extracted text to identify relevant information\n",
    "    3. Finally, convert the information into the requested structured format\n",
    "    Be thorough in your text extraction and precise in your data structuring.\"\"\"\n",
    "\n",
    "agent = Image()"
   ]
  },
  {
   "cell_type": "code",
   "execution_count": null,
   "id": "69e10f3f",
   "metadata": {},
   "outputs": [],
   "source": [
    "file_path = Path(\"./assets/contract.png\")\n",
    "response = \"\"\n",
    "with file_path.open(\"rb\") as file:\n",
    "    files = {\"file\": (file_path.name, file.read(), \"image/png\")}\n",
    "    response = await agent.chat(\"Extract the text from the image\", files=files)"
   ]
  },
  {
   "cell_type": "code",
   "execution_count": null,
   "id": "7b57c531",
   "metadata": {},
   "outputs": [],
   "source": [
    "print(response)"
   ]
  }
 ],
 "metadata": {
  "kernelspec": {
   "display_name": "examples",
   "language": "python",
   "name": "python3"
  },
  "language_info": {
   "codemirror_mode": {
    "name": "ipython",
    "version": 3
   },
   "file_extension": ".py",
   "mimetype": "text/x-python",
   "name": "python",
   "nbconvert_exporter": "python",
   "pygments_lexer": "ipython3",
   "version": "3.13.4"
  }
 },
 "nbformat": 4,
 "nbformat_minor": 5
}
